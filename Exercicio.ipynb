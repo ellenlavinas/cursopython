{
  "nbformat": 4,
  "nbformat_minor": 0,
  "metadata": {
    "colab": {
      "provenance": [],
      "authorship_tag": "ABX9TyPvs8DF95tzQckTUMPrhzcz",
      "include_colab_link": true
    },
    "kernelspec": {
      "name": "python3",
      "display_name": "Python 3"
    },
    "language_info": {
      "name": "python"
    }
  },
  "cells": [
    {
      "cell_type": "markdown",
      "metadata": {
        "id": "view-in-github",
        "colab_type": "text"
      },
      "source": [
        "<a href=\"https://colab.research.google.com/github/ellenlavinas/cursopython/blob/main/Exercicio.ipynb\" target=\"_parent\"><img src=\"https://colab.research.google.com/assets/colab-badge.svg\" alt=\"Open In Colab\"/></a>"
      ]
    },
    {
      "cell_type": "code",
      "execution_count": null,
      "metadata": {
        "id": "gbq5XDp8JECs"
      },
      "outputs": [],
      "source": [
        "# Passo 1: Utilize o comando 'input' para receber ao menos 2 números de entrada do usuário;\n",
        "numero1 = float(input(\"Digite o primeiro número: \"))\n",
        "numero2 = float(input(\"Digite o segundo número: \"))\n",
        "\n",
        "# Função para exibir o menu de operações\n",
        "def exibir_menu():\n",
        "    print(\"\\nEscolha a operação matemática que deseja realizar:\")\n",
        "    print(\"1 - Adição\")\n",
        "    print(\"2 - Subtração\")\n",
        "    print(\"3 - Multiplicação\")\n",
        "    print(\"4 - Divisão\")\n",
        "    print(\"5 - Sair\")\n",
        "\n",
        "# Função para realizar a operação escolhida\n",
        "def realizar_operacao(operacao, num1, num2):\n",
        "    if operacao == 1:\n",
        "        return num1 + num2\n",
        "    elif operacao == 2:\n",
        "        return num1 - num2\n",
        "    elif operacao == 3:\n",
        "        return num1 * num2\n",
        "    elif operacao == 4:\n",
        "        if num2 != 0:\n",
        "            return num1 / num2\n",
        "        else:\n",
        "            return \"Erro: Divisão por zero!\"\n",
        "    else:\n",
        "        return \"Operação inválida!\"\n",
        "\n",
        "# Laço de repetição para permitir que o usuário realize várias operações consecutivas\n",
        "while True:\n",
        "    exibir_menu()\n",
        "    escolha = int(input(\"Digite o número da operação desejada: \"))\n",
        "\n",
        "    if escolha == 5:\n",
        "        print(\"Saindo do programa. Obrigado!\")\n",
        "        break\n",
        "    else:\n",
        "        resultado = realizar_operacao(escolha, numero1, numero2)\n",
        "        print(f\"Resultado: {resultado}\")\n"
      ]
    }
  ]
}